{
  "nbformat": 4,
  "nbformat_minor": 0,
  "metadata": {
    "colab": {
      "name": "Model.ipynb",
      "provenance": [],
      "authorship_tag": "ABX9TyPi3mmX3fYW+9l9Lb/gT/VR",
      "include_colab_link": true
    },
    "kernelspec": {
      "name": "python3",
      "display_name": "Python 3"
    }
  },
  "cells": [
    {
      "cell_type": "markdown",
      "metadata": {
        "id": "view-in-github",
        "colab_type": "text"
      },
      "source": [
        "<a href=\"https://colab.research.google.com/github/tommyliverani/RulFramework/blob/main/Model.ipynb\" target=\"_parent\"><img src=\"https://colab.research.google.com/assets/colab-badge.svg\" alt=\"Open In Colab\"/></a>"
      ]
    },
    {
      "cell_type": "code",
      "metadata": {
        "id": "hP2BwfntAgKr"
      },
      "source": [
        "import numpy as np\r\n",
        "from matplotlib import pyplot as plt\r\n",
        "import pandas as pd\r\n",
        "import tensorflow as tf\r\n",
        "from tensorflow import keras\r\n",
        "from tensorflow.keras import layers, callbacks\r\n",
        "from keras.wrappers.scikit_learn import KerasClassifier\r\n",
        "from sklearn.model_selection import GridSearchCV\r\n",
        "import tensorflow_datasets as tfds\r\n",
        "from Model import Model"
      ],
      "execution_count": 37,
      "outputs": []
    },
    {
      "cell_type": "code",
      "metadata": {
        "id": "yXoP5viFCc0W"
      },
      "source": [
        "fig_size=(9, 3)\r\n",
        "def plot_rul(pred=None, target=None,\r\n",
        "        stddev=None,\r\n",
        "        q1_3=None,\r\n",
        "        same_scale=True,\r\n",
        "        figsize=fig_size, autoclose=True):\r\n",
        "    if autoclose:\r\n",
        "        plt.close('all')\r\n",
        "    plt.figure(figsize=figsize)\r\n",
        "    if target is not None:\r\n",
        "        plt.plot(range(len(target)), target, label='target',\r\n",
        "                color='tab:orange')\r\n",
        "    if pred is not None:\r\n",
        "        if same_scale or target is None:\r\n",
        "            ax = plt.gca()\r\n",
        "        else:\r\n",
        "            ax = plt.gca().twinx()\r\n",
        "        ax.plot(range(len(pred)), pred, label='pred',\r\n",
        "                color='tab:blue')\r\n",
        "       # if stddev is not None:\r\n",
        "       #     ax.fill_between(range(len(pred)),\r\n",
        "       #             pred-stddev, pred+stddev,\r\n",
        "       #             alpha=0.3, color='tab:blue', label='+/- std')\r\n",
        "        if q1_3 is not None:\r\n",
        "            ax.fill_between(range(len(pred)),\r\n",
        "                    q1_3[0], q1_3[1],\r\n",
        "                    alpha=0.3, color='tab:blue', label='1st/3rd quartile')\r\n",
        "    plt.legend()\r\n",
        "    plt.tight_layout()\r\n",
        "    plt.show()"
      ],
      "execution_count": 38,
      "outputs": []
    },
    {
      "cell_type": "code",
      "metadata": {
        "id": "wWc5hnWsAl9a"
      },
      "source": [
        "class Model:\r\n",
        "  def __init__(self, input_featurs, output_featur):\r\n",
        "      self.net=None\r\n",
        "      self.input_featurs=input_featurs\r\n",
        "      self.output_featur=output_featur\r\n",
        "  \r\n",
        "  def build_net(self,hidden,optimizer='Adam',loss='mae'):\r\n",
        "    model_in = keras.Input(shape=len(self.input_featurs), dtype='float32')\r\n",
        "    x = model_in\r\n",
        "    for h,activation in hidden:\r\n",
        "      x = layers.Dense(h, activation=activation)(x)\r\n",
        "    model_out = layers.Dense(1)(x)\r\n",
        "    model = keras.Model(model_in, model_out)\r\n",
        "    model.compile(optimizer=optimizer, loss=loss)     \r\n",
        "    self.net=model\r\n",
        "\r\n",
        "  def import_model(self,net):\r\n",
        "    self.net=net\r\n",
        "  \r\n",
        "  def train(self,train_set, batch_size=10, validation_split=0.2, epochs=20, verbose=1, callbacks=[tf.keras.callbacks.EarlyStopping(patience=2)]):\r\n",
        "    return self.net.fit(train_set[self.input_featurs], train_set[self.output_featur],batch_size=batch_size, validation_split=validation_split,epochs=epochs, verbose=verbose, callbacks=callbacks)\r\n",
        "  \r\n",
        "  def predict(self,set):\r\n",
        "    return self.net.predict(set[self.input_featurs]).ravel()"
      ],
      "execution_count": 39,
      "outputs": []
    },
    {
      "cell_type": "code",
      "metadata": {
        "id": "66l80-UjAyyx"
      },
      "source": [
        "url = 'https://raw.githubusercontent.com/tommyliverani/RulPrediction/main/data/'\r\n",
        "\r\n",
        "\r\n",
        "data= pd.read_csv(url + 'final_normal_rul_data.csv')\r\n",
        "dt_in = list(data.columns[5:-3])"
      ],
      "execution_count": 40,
      "outputs": []
    },
    {
      "cell_type": "code",
      "metadata": {
        "id": "u6T66SC4BL6q"
      },
      "source": [
        "model=Model(dt_in,'rul')"
      ],
      "execution_count": 41,
      "outputs": []
    },
    {
      "cell_type": "code",
      "metadata": {
        "id": "KBUlFd4nBiRa"
      },
      "source": [
        "model.build_net([[64,'relu'],[64,'relu'],[64,'relu'],[64,'relu']])"
      ],
      "execution_count": 42,
      "outputs": []
    },
    {
      "cell_type": "code",
      "metadata": {
        "colab": {
          "base_uri": "https://localhost:8080/"
        },
        "id": "BxCDZD08CEfW",
        "outputId": "9301a6de-0e3e-4953-f46c-b60a6c7fb0d4"
      },
      "source": [
        "model.net.summary()"
      ],
      "execution_count": 43,
      "outputs": [
        {
          "output_type": "stream",
          "text": [
            "Model: \"model_2\"\n",
            "_________________________________________________________________\n",
            "Layer (type)                 Output Shape              Param #   \n",
            "=================================================================\n",
            "input_4 (InputLayer)         [(None, 60)]              0         \n",
            "_________________________________________________________________\n",
            "dense_11 (Dense)             (None, 64)                3904      \n",
            "_________________________________________________________________\n",
            "dense_12 (Dense)             (None, 64)                4160      \n",
            "_________________________________________________________________\n",
            "dense_13 (Dense)             (None, 64)                4160      \n",
            "_________________________________________________________________\n",
            "dense_14 (Dense)             (None, 64)                4160      \n",
            "_________________________________________________________________\n",
            "dense_15 (Dense)             (None, 1)                 65        \n",
            "=================================================================\n",
            "Total params: 16,449\n",
            "Trainable params: 16,449\n",
            "Non-trainable params: 0\n",
            "_________________________________________________________________\n"
          ],
          "name": "stdout"
        }
      ]
    },
    {
      "cell_type": "code",
      "metadata": {
        "colab": {
          "base_uri": "https://localhost:8080/"
        },
        "id": "UrW6IfOGCH_D",
        "outputId": "5aa4e320-62c9-46db-c6a0-da1e7e5b8fb8"
      },
      "source": [
        "model.train(data)"
      ],
      "execution_count": 44,
      "outputs": [
        {
          "output_type": "stream",
          "text": [
            "Epoch 1/20\n",
            "6592/6592 [==============================] - 11s 2ms/step - loss: 0.1052 - val_loss: 0.2011\n",
            "Epoch 2/20\n",
            "6592/6592 [==============================] - 10s 1ms/step - loss: 0.0565 - val_loss: 0.2030\n",
            "Epoch 3/20\n",
            "6592/6592 [==============================] - 10s 2ms/step - loss: 0.0429 - val_loss: 0.2002\n",
            "Epoch 4/20\n",
            "6592/6592 [==============================] - 10s 2ms/step - loss: 0.0368 - val_loss: 0.1924\n",
            "Epoch 5/20\n",
            "6592/6592 [==============================] - 10s 2ms/step - loss: 0.0311 - val_loss: 0.2014\n",
            "Epoch 6/20\n",
            "6592/6592 [==============================] - 10s 2ms/step - loss: 0.0283 - val_loss: 0.2046\n"
          ],
          "name": "stdout"
        },
        {
          "output_type": "execute_result",
          "data": {
            "text/plain": [
              "<tensorflow.python.keras.callbacks.History at 0x7ff8e2f5c1d0>"
            ]
          },
          "metadata": {
            "tags": []
          },
          "execution_count": 44
        }
      ]
    },
    {
      "cell_type": "code",
      "metadata": {
        "colab": {
          "base_uri": "https://localhost:8080/",
          "height": 225
        },
        "id": "8Xd8pa6lCVAt",
        "outputId": "cd8a8c96-220c-4464-c3fc-e9996a429cc0"
      },
      "source": [
        "stop=40000\r\n",
        "plot_rul(model.predict(data)[:stop],data['rul'][:stop])"
      ],
      "execution_count": 45,
      "outputs": [
        {
          "output_type": "display_data",
          "data": {
            "image/png": "[encoded data removed]",
            "text/plain": [
              "<Figure size 648x216 with 1 Axes>"
            ]
          },
          "metadata": {
            "tags": [],
            "needs_background": "light"
          }
        }
      ]
    }
  ]
}