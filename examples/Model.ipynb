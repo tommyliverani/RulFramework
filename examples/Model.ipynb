{
  "nbformat": 4,
  "nbformat_minor": 0,
  "metadata": {
    "colab": {
      "name": "Model.ipynb",
      "provenance": [],
      "authorship_tag": "ABX9TyMlpLb06EkHacwzZZrPzvJX",
      "include_colab_link": true
    },
    "kernelspec": {
      "name": "python3",
      "display_name": "Python 3"
    }
  },
  "cells": [
    {
      "cell_type": "markdown",
      "metadata": {
        "id": "view-in-github",
        "colab_type": "text"
      },
      "source": [
        "<a href=\"https://colab.research.google.com/github/tommyliverani/RulFramework/blob/main/Model.ipynb\" target=\"_parent\"><img src=\"https://colab.research.google.com/assets/colab-badge.svg\" alt=\"Open In Colab\"/></a>"
      ]
    },
    {
      "cell_type": "code",
      "metadata": {
        "id": "hP2BwfntAgKr"
      },
      "source": [
        "import numpy as np\r\n",
        "from matplotlib import pyplot as plt\r\n",
        "import pandas as pd\r\n",
        "import tensorflow as tf\r\n",
        "from tensorflow import keras\r\n",
        "from tensorflow.keras import layers, callbacks\r\n",
        "from keras.wrappers.scikit_learn import KerasClassifier\r\n",
        "from sklearn.model_selection import GridSearchCV\r\n",
        "import tensorflow_datasets as tfds\r\n",
        "from Model import Model"
      ],
      "execution_count": 46,
      "outputs": []
    },
    {
      "cell_type": "code",
      "metadata": {
        "id": "yXoP5viFCc0W"
      },
      "source": [
        "fig_size=(9, 3)\r\n",
        "def plot_rul(pred=None, target=None,\r\n",
        "        stddev=None,\r\n",
        "        q1_3=None,\r\n",
        "        same_scale=True,\r\n",
        "        figsize=fig_size, autoclose=True):\r\n",
        "    if autoclose:\r\n",
        "        plt.close('all')\r\n",
        "    plt.figure(figsize=figsize)\r\n",
        "    if target is not None:\r\n",
        "        plt.plot(range(len(target)), target, label='target',\r\n",
        "                color='tab:orange')\r\n",
        "    if pred is not None:\r\n",
        "        if same_scale or target is None:\r\n",
        "            ax = plt.gca()\r\n",
        "        else:\r\n",
        "            ax = plt.gca().twinx()\r\n",
        "        ax.plot(range(len(pred)), pred, label='pred',\r\n",
        "                color='tab:blue')\r\n",
        "       # if stddev is not None:\r\n",
        "       #     ax.fill_between(range(len(pred)),\r\n",
        "       #             pred-stddev, pred+stddev,\r\n",
        "       #             alpha=0.3, color='tab:blue', label='+/- std')\r\n",
        "        if q1_3 is not None:\r\n",
        "            ax.fill_between(range(len(pred)),\r\n",
        "                    q1_3[0], q1_3[1],\r\n",
        "                    alpha=0.3, color='tab:blue', label='1st/3rd quartile')\r\n",
        "    plt.legend()\r\n",
        "    plt.tight_layout()\r\n",
        "    plt.show()"
      ],
      "execution_count": 47,
      "outputs": []
    },
    {
      "cell_type": "code",
      "metadata": {
        "id": "66l80-UjAyyx"
      },
      "source": [
        "url = 'https://raw.githubusercontent.com/tommyliverani/RulPrediction/main/data/'\r\n",
        "\r\n",
        "\r\n",
        "data= pd.read_csv(url + 'final_normal_rul_data.csv')\r\n",
        "dt_in = list(data.columns[5:-3])"
      ],
      "execution_count": 48,
      "outputs": []
    },
    {
      "cell_type": "code",
      "metadata": {
        "id": "u6T66SC4BL6q"
      },
      "source": [
        "model=Model(dt_in,'rul')"
      ],
      "execution_count": 49,
      "outputs": []
    },
    {
      "cell_type": "code",
      "metadata": {
        "id": "KBUlFd4nBiRa"
      },
      "source": [
        "model.build_net([[64,'relu'],[64,'relu'],[64,'relu'],[64,'relu']])"
      ],
      "execution_count": 50,
      "outputs": []
    },
    {
      "cell_type": "code",
      "metadata": {
        "colab": {
          "base_uri": "https://localhost:8080/"
        },
        "id": "BxCDZD08CEfW",
        "outputId": "c4478450-570a-4cb6-b114-2c9e31f1c6b5"
      },
      "source": [
        "model.net.summary()"
      ],
      "execution_count": 51,
      "outputs": [
        {
          "output_type": "stream",
          "text": [
            "Model: \"model_3\"\n",
            "_________________________________________________________________\n",
            "Layer (type)                 Output Shape              Param #   \n",
            "=================================================================\n",
            "input_5 (InputLayer)         [(None, 60)]              0         \n",
            "_________________________________________________________________\n",
            "dense_16 (Dense)             (None, 64)                3904      \n",
            "_________________________________________________________________\n",
            "dense_17 (Dense)             (None, 64)                4160      \n",
            "_________________________________________________________________\n",
            "dense_18 (Dense)             (None, 64)                4160      \n",
            "_________________________________________________________________\n",
            "dense_19 (Dense)             (None, 64)                4160      \n",
            "_________________________________________________________________\n",
            "dense_20 (Dense)             (None, 1)                 65        \n",
            "=================================================================\n",
            "Total params: 16,449\n",
            "Trainable params: 16,449\n",
            "Non-trainable params: 0\n",
            "_________________________________________________________________\n"
          ],
          "name": "stdout"
        }
      ]
    },
    {
      "cell_type": "code",
      "metadata": {
        "colab": {
          "base_uri": "https://localhost:8080/"
        },
        "id": "UrW6IfOGCH_D",
        "outputId": "679a282a-e854-4764-9798-b3882d1c8d7d"
      },
      "source": [
        "model.train(data)"
      ],
      "execution_count": 52,
      "outputs": [
        {
          "output_type": "stream",
          "text": [
            "Epoch 1/20\n",
            "6592/6592 [==============================] - 11s 2ms/step - loss: 0.1017 - val_loss: 0.1902\n",
            "Epoch 2/20\n",
            "6592/6592 [==============================] - 10s 2ms/step - loss: 0.0586 - val_loss: 0.1923\n",
            "Epoch 3/20\n",
            "6592/6592 [==============================] - 10s 2ms/step - loss: 0.0460 - val_loss: 0.1906\n"
          ],
          "name": "stdout"
        },
        {
          "output_type": "execute_result",
          "data": {
            "text/plain": [
              "<tensorflow.python.keras.callbacks.History at 0x7ff8de802978>"
            ]
          },
          "metadata": {
            "tags": []
          },
          "execution_count": 52
        }
      ]
    },
    {
      "cell_type": "code",
      "metadata": {
        "colab": {
          "base_uri": "https://localhost:8080/",
          "height": 225
        },
        "id": "8Xd8pa6lCVAt",
        "outputId": "d543f65f-766b-45a7-b12b-310d02fe066b"
      },
      "source": [
        "stop=40000\r\n",
        "plot_rul(model.predict(data)[:stop],data['rul'][:stop])"
      ],
      "execution_count": 53,
      "outputs": [
        {
          "output_type": "display_data",
          "data": {
            "image/png": "[encoded data removed]",
            "text/plain": [
              "<Figure size 648x216 with 1 Axes>"
            ]
          },
          "metadata": {
            "tags": [],
            "needs_background": "light"
          }
        }
      ]
    }
  ]
}